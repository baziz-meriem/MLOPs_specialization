{
  "nbformat": 4,
  "nbformat_minor": 0,
  "metadata": {
    "colab": {
      "provenance": []
    },
    "kernelspec": {
      "name": "python3",
      "display_name": "Python 3"
    },
    "language_info": {
      "name": "python"
    }
  },
  "cells": [
    {
      "cell_type": "code",
      "execution_count": 3,
      "metadata": {
        "id": "lEboycy-dkad"
      },
      "outputs": [],
      "source": [
        "import os\n",
        "import numpy as np\n",
        "import pandas as pd\n",
        "import matplotlib.pyplot as plt"
      ]
    },
    {
      "cell_type": "markdown",
      "source": [
        "# Loading the dataset"
      ],
      "metadata": {
        "id": "T8Fg4wkgezSa"
      }
    },
    {
      "cell_type": "code",
      "source": [
        "os.getcwd()"
      ],
      "metadata": {
        "colab": {
          "base_uri": "https://localhost:8080/",
          "height": 35
        },
        "id": "oSiISq_Kps-s",
        "outputId": "041fbc0e-9fe0-4137-d222-3d469d0202c9"
      },
      "execution_count": 12,
      "outputs": [
        {
          "output_type": "execute_result",
          "data": {
            "text/plain": [
              "'/content'"
            ],
            "application/vnd.google.colaboratory.intrinsic+json": {
              "type": "string"
            }
          },
          "metadata": {},
          "execution_count": 12
        }
      ]
    },
    {
      "cell_type": "code",
      "source": [
        "def load_labeled_spam_dataset():\n",
        "    \"\"\"Load labeled spam dataset.\"\"\"\n",
        "\n",
        "    # Path where csv files are located\n",
        "    base_path = \"./dataset/\"\n",
        "\n",
        "    # List of csv files with full path\n",
        "    csv_files = [os.path.join(base_path, csv) for csv in os.listdir(base_path) if os.path.isfile(os.path.join(base_path, csv))]\n",
        "\n",
        "    # List of dataframes for each file\n",
        "    dfs = [pd.read_csv(filename) for filename in csv_files]\n",
        "\n",
        "    # Concatenate dataframes into a single one\n",
        "    df = pd.concat(dfs)\n",
        "\n",
        "    # Rename columns\n",
        "    df = df.rename(columns={\"CONTENT\": \"text\", \"CLASS\": \"label\"})\n",
        "\n",
        "    # Set a seed for the order of rows\n",
        "    df = df.sample(frac=1, random_state=824)\n",
        "\n",
        "    return df.reset_index()\n",
        "\n",
        "\n",
        "# Save the dataframe into the df_labeled variable\n",
        "df_labeled = load_labeled_spam_dataset()"
      ],
      "metadata": {
        "id": "3SxCG5SmewiF"
      },
      "execution_count": 31,
      "outputs": []
    },
    {
      "cell_type": "code",
      "source": [
        "df_labeled.head()"
      ],
      "metadata": {
        "colab": {
          "base_uri": "https://localhost:8080/",
          "height": 258
        },
        "id": "lYfQ1bkBn5RH",
        "outputId": "28d4fb16-8020-4a99-ae52-3a4eaf0621eb"
      },
      "execution_count": 32,
      "outputs": [
        {
          "output_type": "execute_result",
          "data": {
            "text/plain": [
              "   index                                   COMMENT_ID  \\\n",
              "0    106        z12ecbfbewzlxxe5u04cjtmhqnzsdvyx1vs0k   \n",
              "1    301  _2viQ_Qnc68kPR6lRkhBHXUX2dGt04-4RgzINpv8Yhk   \n",
              "2    152          z13ighawfwy5y5t5a04ccnp5dozetzfpq0g   \n",
              "3    157        z13guzigaxftzpnis04cjzp5itbwjvkqjk00k   \n",
              "4    336  _2viQ_Qnc685qxAXpoMI-8aTnd7plcAbmTrvD_G2Czw   \n",
              "\n",
              "                               AUTHOR                        DATE  \\\n",
              "0                      leslie mendoza  2015-05-27T04:28:42.896000   \n",
              "1  Ando Nesia - | MC | Music Producer  2013-08-25T04:22:28.183000   \n",
              "2                          Snipe Last         2014-09-22T19:34:46   \n",
              "3                       Na'RUtO AnImE         2014-09-23T18:06:18   \n",
              "4                      meg fluttershy  2013-07-25T20:47:41.071000   \n",
              "\n",
              "                                                text  label  \n",
              "0                                         best song﻿      0  \n",
              "1  SO THEN HOW ARE YOU GOING TO CALL YOURSELF A I...      1  \n",
              "2               why the elephant have a broken horn﻿      0  \n",
              "3                                 subscribe please ﻿      1  \n",
              "4           Love itt and ppl check out my channel!!!      1  "
            ],
            "text/html": [
              "\n",
              "  <div id=\"df-cb9aa641-e3e0-460d-a669-f304c589f647\" class=\"colab-df-container\">\n",
              "    <div>\n",
              "<style scoped>\n",
              "    .dataframe tbody tr th:only-of-type {\n",
              "        vertical-align: middle;\n",
              "    }\n",
              "\n",
              "    .dataframe tbody tr th {\n",
              "        vertical-align: top;\n",
              "    }\n",
              "\n",
              "    .dataframe thead th {\n",
              "        text-align: right;\n",
              "    }\n",
              "</style>\n",
              "<table border=\"1\" class=\"dataframe\">\n",
              "  <thead>\n",
              "    <tr style=\"text-align: right;\">\n",
              "      <th></th>\n",
              "      <th>index</th>\n",
              "      <th>COMMENT_ID</th>\n",
              "      <th>AUTHOR</th>\n",
              "      <th>DATE</th>\n",
              "      <th>text</th>\n",
              "      <th>label</th>\n",
              "    </tr>\n",
              "  </thead>\n",
              "  <tbody>\n",
              "    <tr>\n",
              "      <th>0</th>\n",
              "      <td>106</td>\n",
              "      <td>z12ecbfbewzlxxe5u04cjtmhqnzsdvyx1vs0k</td>\n",
              "      <td>leslie mendoza</td>\n",
              "      <td>2015-05-27T04:28:42.896000</td>\n",
              "      <td>best song﻿</td>\n",
              "      <td>0</td>\n",
              "    </tr>\n",
              "    <tr>\n",
              "      <th>1</th>\n",
              "      <td>301</td>\n",
              "      <td>_2viQ_Qnc68kPR6lRkhBHXUX2dGt04-4RgzINpv8Yhk</td>\n",
              "      <td>Ando Nesia - | MC | Music Producer</td>\n",
              "      <td>2013-08-25T04:22:28.183000</td>\n",
              "      <td>SO THEN HOW ARE YOU GOING TO CALL YOURSELF A I...</td>\n",
              "      <td>1</td>\n",
              "    </tr>\n",
              "    <tr>\n",
              "      <th>2</th>\n",
              "      <td>152</td>\n",
              "      <td>z13ighawfwy5y5t5a04ccnp5dozetzfpq0g</td>\n",
              "      <td>Snipe Last</td>\n",
              "      <td>2014-09-22T19:34:46</td>\n",
              "      <td>why the elephant have a broken horn﻿</td>\n",
              "      <td>0</td>\n",
              "    </tr>\n",
              "    <tr>\n",
              "      <th>3</th>\n",
              "      <td>157</td>\n",
              "      <td>z13guzigaxftzpnis04cjzp5itbwjvkqjk00k</td>\n",
              "      <td>Na'RUtO AnImE</td>\n",
              "      <td>2014-09-23T18:06:18</td>\n",
              "      <td>subscribe please ﻿</td>\n",
              "      <td>1</td>\n",
              "    </tr>\n",
              "    <tr>\n",
              "      <th>4</th>\n",
              "      <td>336</td>\n",
              "      <td>_2viQ_Qnc685qxAXpoMI-8aTnd7plcAbmTrvD_G2Czw</td>\n",
              "      <td>meg fluttershy</td>\n",
              "      <td>2013-07-25T20:47:41.071000</td>\n",
              "      <td>Love itt and ppl check out my channel!!!</td>\n",
              "      <td>1</td>\n",
              "    </tr>\n",
              "  </tbody>\n",
              "</table>\n",
              "</div>\n",
              "    <div class=\"colab-df-buttons\">\n",
              "\n",
              "  <div class=\"colab-df-container\">\n",
              "    <button class=\"colab-df-convert\" onclick=\"convertToInteractive('df-cb9aa641-e3e0-460d-a669-f304c589f647')\"\n",
              "            title=\"Convert this dataframe to an interactive table.\"\n",
              "            style=\"display:none;\">\n",
              "\n",
              "  <svg xmlns=\"http://www.w3.org/2000/svg\" height=\"24px\" viewBox=\"0 -960 960 960\">\n",
              "    <path d=\"M120-120v-720h720v720H120Zm60-500h600v-160H180v160Zm220 220h160v-160H400v160Zm0 220h160v-160H400v160ZM180-400h160v-160H180v160Zm440 0h160v-160H620v160ZM180-180h160v-160H180v160Zm440 0h160v-160H620v160Z\"/>\n",
              "  </svg>\n",
              "    </button>\n",
              "\n",
              "  <style>\n",
              "    .colab-df-container {\n",
              "      display:flex;\n",
              "      gap: 12px;\n",
              "    }\n",
              "\n",
              "    .colab-df-convert {\n",
              "      background-color: #E8F0FE;\n",
              "      border: none;\n",
              "      border-radius: 50%;\n",
              "      cursor: pointer;\n",
              "      display: none;\n",
              "      fill: #1967D2;\n",
              "      height: 32px;\n",
              "      padding: 0 0 0 0;\n",
              "      width: 32px;\n",
              "    }\n",
              "\n",
              "    .colab-df-convert:hover {\n",
              "      background-color: #E2EBFA;\n",
              "      box-shadow: 0px 1px 2px rgba(60, 64, 67, 0.3), 0px 1px 3px 1px rgba(60, 64, 67, 0.15);\n",
              "      fill: #174EA6;\n",
              "    }\n",
              "\n",
              "    .colab-df-buttons div {\n",
              "      margin-bottom: 4px;\n",
              "    }\n",
              "\n",
              "    [theme=dark] .colab-df-convert {\n",
              "      background-color: #3B4455;\n",
              "      fill: #D2E3FC;\n",
              "    }\n",
              "\n",
              "    [theme=dark] .colab-df-convert:hover {\n",
              "      background-color: #434B5C;\n",
              "      box-shadow: 0px 1px 3px 1px rgba(0, 0, 0, 0.15);\n",
              "      filter: drop-shadow(0px 1px 2px rgba(0, 0, 0, 0.3));\n",
              "      fill: #FFFFFF;\n",
              "    }\n",
              "  </style>\n",
              "\n",
              "    <script>\n",
              "      const buttonEl =\n",
              "        document.querySelector('#df-cb9aa641-e3e0-460d-a669-f304c589f647 button.colab-df-convert');\n",
              "      buttonEl.style.display =\n",
              "        google.colab.kernel.accessAllowed ? 'block' : 'none';\n",
              "\n",
              "      async function convertToInteractive(key) {\n",
              "        const element = document.querySelector('#df-cb9aa641-e3e0-460d-a669-f304c589f647');\n",
              "        const dataTable =\n",
              "          await google.colab.kernel.invokeFunction('convertToInteractive',\n",
              "                                                    [key], {});\n",
              "        if (!dataTable) return;\n",
              "\n",
              "        const docLinkHtml = 'Like what you see? Visit the ' +\n",
              "          '<a target=\"_blank\" href=https://colab.research.google.com/notebooks/data_table.ipynb>data table notebook</a>'\n",
              "          + ' to learn more about interactive tables.';\n",
              "        element.innerHTML = '';\n",
              "        dataTable['output_type'] = 'display_data';\n",
              "        await google.colab.output.renderOutput(dataTable, element);\n",
              "        const docLink = document.createElement('div');\n",
              "        docLink.innerHTML = docLinkHtml;\n",
              "        element.appendChild(docLink);\n",
              "      }\n",
              "    </script>\n",
              "  </div>\n",
              "\n",
              "\n",
              "<div id=\"df-24efd2c2-8f19-47b5-96b8-1716ef44ffe7\">\n",
              "  <button class=\"colab-df-quickchart\" onclick=\"quickchart('df-24efd2c2-8f19-47b5-96b8-1716ef44ffe7')\"\n",
              "            title=\"Suggest charts.\"\n",
              "            style=\"display:none;\">\n",
              "\n",
              "<svg xmlns=\"http://www.w3.org/2000/svg\" height=\"24px\"viewBox=\"0 0 24 24\"\n",
              "     width=\"24px\">\n",
              "    <g>\n",
              "        <path d=\"M19 3H5c-1.1 0-2 .9-2 2v14c0 1.1.9 2 2 2h14c1.1 0 2-.9 2-2V5c0-1.1-.9-2-2-2zM9 17H7v-7h2v7zm4 0h-2V7h2v10zm4 0h-2v-4h2v4z\"/>\n",
              "    </g>\n",
              "</svg>\n",
              "  </button>\n",
              "\n",
              "<style>\n",
              "  .colab-df-quickchart {\n",
              "      --bg-color: #E8F0FE;\n",
              "      --fill-color: #1967D2;\n",
              "      --hover-bg-color: #E2EBFA;\n",
              "      --hover-fill-color: #174EA6;\n",
              "      --disabled-fill-color: #AAA;\n",
              "      --disabled-bg-color: #DDD;\n",
              "  }\n",
              "\n",
              "  [theme=dark] .colab-df-quickchart {\n",
              "      --bg-color: #3B4455;\n",
              "      --fill-color: #D2E3FC;\n",
              "      --hover-bg-color: #434B5C;\n",
              "      --hover-fill-color: #FFFFFF;\n",
              "      --disabled-bg-color: #3B4455;\n",
              "      --disabled-fill-color: #666;\n",
              "  }\n",
              "\n",
              "  .colab-df-quickchart {\n",
              "    background-color: var(--bg-color);\n",
              "    border: none;\n",
              "    border-radius: 50%;\n",
              "    cursor: pointer;\n",
              "    display: none;\n",
              "    fill: var(--fill-color);\n",
              "    height: 32px;\n",
              "    padding: 0;\n",
              "    width: 32px;\n",
              "  }\n",
              "\n",
              "  .colab-df-quickchart:hover {\n",
              "    background-color: var(--hover-bg-color);\n",
              "    box-shadow: 0 1px 2px rgba(60, 64, 67, 0.3), 0 1px 3px 1px rgba(60, 64, 67, 0.15);\n",
              "    fill: var(--button-hover-fill-color);\n",
              "  }\n",
              "\n",
              "  .colab-df-quickchart-complete:disabled,\n",
              "  .colab-df-quickchart-complete:disabled:hover {\n",
              "    background-color: var(--disabled-bg-color);\n",
              "    fill: var(--disabled-fill-color);\n",
              "    box-shadow: none;\n",
              "  }\n",
              "\n",
              "  .colab-df-spinner {\n",
              "    border: 2px solid var(--fill-color);\n",
              "    border-color: transparent;\n",
              "    border-bottom-color: var(--fill-color);\n",
              "    animation:\n",
              "      spin 1s steps(1) infinite;\n",
              "  }\n",
              "\n",
              "  @keyframes spin {\n",
              "    0% {\n",
              "      border-color: transparent;\n",
              "      border-bottom-color: var(--fill-color);\n",
              "      border-left-color: var(--fill-color);\n",
              "    }\n",
              "    20% {\n",
              "      border-color: transparent;\n",
              "      border-left-color: var(--fill-color);\n",
              "      border-top-color: var(--fill-color);\n",
              "    }\n",
              "    30% {\n",
              "      border-color: transparent;\n",
              "      border-left-color: var(--fill-color);\n",
              "      border-top-color: var(--fill-color);\n",
              "      border-right-color: var(--fill-color);\n",
              "    }\n",
              "    40% {\n",
              "      border-color: transparent;\n",
              "      border-right-color: var(--fill-color);\n",
              "      border-top-color: var(--fill-color);\n",
              "    }\n",
              "    60% {\n",
              "      border-color: transparent;\n",
              "      border-right-color: var(--fill-color);\n",
              "    }\n",
              "    80% {\n",
              "      border-color: transparent;\n",
              "      border-right-color: var(--fill-color);\n",
              "      border-bottom-color: var(--fill-color);\n",
              "    }\n",
              "    90% {\n",
              "      border-color: transparent;\n",
              "      border-bottom-color: var(--fill-color);\n",
              "    }\n",
              "  }\n",
              "</style>\n",
              "\n",
              "  <script>\n",
              "    async function quickchart(key) {\n",
              "      const quickchartButtonEl =\n",
              "        document.querySelector('#' + key + ' button');\n",
              "      quickchartButtonEl.disabled = true;  // To prevent multiple clicks.\n",
              "      quickchartButtonEl.classList.add('colab-df-spinner');\n",
              "      try {\n",
              "        const charts = await google.colab.kernel.invokeFunction(\n",
              "            'suggestCharts', [key], {});\n",
              "      } catch (error) {\n",
              "        console.error('Error during call to suggestCharts:', error);\n",
              "      }\n",
              "      quickchartButtonEl.classList.remove('colab-df-spinner');\n",
              "      quickchartButtonEl.classList.add('colab-df-quickchart-complete');\n",
              "    }\n",
              "    (() => {\n",
              "      let quickchartButtonEl =\n",
              "        document.querySelector('#df-24efd2c2-8f19-47b5-96b8-1716ef44ffe7 button');\n",
              "      quickchartButtonEl.style.display =\n",
              "        google.colab.kernel.accessAllowed ? 'block' : 'none';\n",
              "    })();\n",
              "  </script>\n",
              "</div>\n",
              "    </div>\n",
              "  </div>\n"
            ]
          },
          "metadata": {},
          "execution_count": 32
        }
      ]
    },
    {
      "cell_type": "markdown",
      "source": [
        "# Further inspection and preprocessing"
      ],
      "metadata": {
        "id": "9kq-vGXaoErR"
      }
    },
    {
      "cell_type": "markdown",
      "source": [
        "# Checking for data imbalance"
      ],
      "metadata": {
        "id": "xib44YqIu-a-"
      }
    },
    {
      "cell_type": "code",
      "source": [
        "# Print actual value count\n",
        "print(f\"Value counts for each class:\\n\\n{df_labeled.label.value_counts()}\")\n",
        "df_labeled.label.value_counts().plot.pie(y='label',title=\"proportion of each class\")"
      ],
      "metadata": {
        "colab": {
          "base_uri": "https://localhost:8080/",
          "height": 532
        },
        "id": "qauCYy6f6iEn",
        "outputId": "5021daf1-9f9c-44ed-c268-644d7267d330"
      },
      "execution_count": 34,
      "outputs": [
        {
          "output_type": "stream",
          "name": "stdout",
          "text": [
            "Value counts for each class:\n",
            "\n",
            "1    1005\n",
            "0     951\n",
            "Name: label, dtype: int64\n"
          ]
        },
        {
          "output_type": "execute_result",
          "data": {
            "text/plain": [
              "<Axes: title={'center': 'proportion of each class'}, ylabel='label'>"
            ]
          },
          "metadata": {},
          "execution_count": 34
        },
        {
          "output_type": "display_data",
          "data": {
            "text/plain": [
              "<Figure size 640x480 with 1 Axes>"
            ],
            "image/png": "[encoded data removed]"
          },
          "metadata": {}
        }
      ]
    },
    {
      "cell_type": "code",
      "source": [
        "#drop unwanted\n",
        "df_labeled = df_labeled.drop(['index','COMMENT_ID', 'AUTHOR', 'DATE'],axis=1)\n",
        "df_labeled.head()"
      ],
      "metadata": {
        "colab": {
          "base_uri": "https://localhost:8080/",
          "height": 206
        },
        "id": "22TJLl_J6iUv",
        "outputId": "da59b465-a4ba-4f09-d0b4-baf7ecd8cbda"
      },
      "execution_count": 36,
      "outputs": [
        {
          "output_type": "execute_result",
          "data": {
            "text/plain": [
              "                                                text  label\n",
              "0                                         best song﻿      0\n",
              "1  SO THEN HOW ARE YOU GOING TO CALL YOURSELF A I...      1\n",
              "2               why the elephant have a broken horn﻿      0\n",
              "3                                 subscribe please ﻿      1\n",
              "4           Love itt and ppl check out my channel!!!      1"
            ],
            "text/html": [
              "\n",
              "  <div id=\"df-49de20b8-574b-42ca-9f5c-00a456a6a2e5\" class=\"colab-df-container\">\n",
              "    <div>\n",
              "<style scoped>\n",
              "    .dataframe tbody tr th:only-of-type {\n",
              "        vertical-align: middle;\n",
              "    }\n",
              "\n",
              "    .dataframe tbody tr th {\n",
              "        vertical-align: top;\n",
              "    }\n",
              "\n",
              "    .dataframe thead th {\n",
              "        text-align: right;\n",
              "    }\n",
              "</style>\n",
              "<table border=\"1\" class=\"dataframe\">\n",
              "  <thead>\n",
              "    <tr style=\"text-align: right;\">\n",
              "      <th></th>\n",
              "      <th>text</th>\n",
              "      <th>label</th>\n",
              "    </tr>\n",
              "  </thead>\n",
              "  <tbody>\n",
              "    <tr>\n",
              "      <th>0</th>\n",
              "      <td>best song﻿</td>\n",
              "      <td>0</td>\n",
              "    </tr>\n",
              "    <tr>\n",
              "      <th>1</th>\n",
              "      <td>SO THEN HOW ARE YOU GOING TO CALL YOURSELF A I...</td>\n",
              "      <td>1</td>\n",
              "    </tr>\n",
              "    <tr>\n",
              "      <th>2</th>\n",
              "      <td>why the elephant have a broken horn﻿</td>\n",
              "      <td>0</td>\n",
              "    </tr>\n",
              "    <tr>\n",
              "      <th>3</th>\n",
              "      <td>subscribe please ﻿</td>\n",
              "      <td>1</td>\n",
              "    </tr>\n",
              "    <tr>\n",
              "      <th>4</th>\n",
              "      <td>Love itt and ppl check out my channel!!!</td>\n",
              "      <td>1</td>\n",
              "    </tr>\n",
              "  </tbody>\n",
              "</table>\n",
              "</div>\n",
              "    <div class=\"colab-df-buttons\">\n",
              "\n",
              "  <div class=\"colab-df-container\">\n",
              "    <button class=\"colab-df-convert\" onclick=\"convertToInteractive('df-49de20b8-574b-42ca-9f5c-00a456a6a2e5')\"\n",
              "            title=\"Convert this dataframe to an interactive table.\"\n",
              "            style=\"display:none;\">\n",
              "\n",
              "  <svg xmlns=\"http://www.w3.org/2000/svg\" height=\"24px\" viewBox=\"0 -960 960 960\">\n",
              "    <path d=\"M120-120v-720h720v720H120Zm60-500h600v-160H180v160Zm220 220h160v-160H400v160Zm0 220h160v-160H400v160ZM180-400h160v-160H180v160Zm440 0h160v-160H620v160ZM180-180h160v-160H180v160Zm440 0h160v-160H620v160Z\"/>\n",
              "  </svg>\n",
              "    </button>\n",
              "\n",
              "  <style>\n",
              "    .colab-df-container {\n",
              "      display:flex;\n",
              "      gap: 12px;\n",
              "    }\n",
              "\n",
              "    .colab-df-convert {\n",
              "      background-color: #E8F0FE;\n",
              "      border: none;\n",
              "      border-radius: 50%;\n",
              "      cursor: pointer;\n",
              "      display: none;\n",
              "      fill: #1967D2;\n",
              "      height: 32px;\n",
              "      padding: 0 0 0 0;\n",
              "      width: 32px;\n",
              "    }\n",
              "\n",
              "    .colab-df-convert:hover {\n",
              "      background-color: #E2EBFA;\n",
              "      box-shadow: 0px 1px 2px rgba(60, 64, 67, 0.3), 0px 1px 3px 1px rgba(60, 64, 67, 0.15);\n",
              "      fill: #174EA6;\n",
              "    }\n",
              "\n",
              "    .colab-df-buttons div {\n",
              "      margin-bottom: 4px;\n",
              "    }\n",
              "\n",
              "    [theme=dark] .colab-df-convert {\n",
              "      background-color: #3B4455;\n",
              "      fill: #D2E3FC;\n",
              "    }\n",
              "\n",
              "    [theme=dark] .colab-df-convert:hover {\n",
              "      background-color: #434B5C;\n",
              "      box-shadow: 0px 1px 3px 1px rgba(0, 0, 0, 0.15);\n",
              "      filter: drop-shadow(0px 1px 2px rgba(0, 0, 0, 0.3));\n",
              "      fill: #FFFFFF;\n",
              "    }\n",
              "  </style>\n",
              "\n",
              "    <script>\n",
              "      const buttonEl =\n",
              "        document.querySelector('#df-49de20b8-574b-42ca-9f5c-00a456a6a2e5 button.colab-df-convert');\n",
              "      buttonEl.style.display =\n",
              "        google.colab.kernel.accessAllowed ? 'block' : 'none';\n",
              "\n",
              "      async function convertToInteractive(key) {\n",
              "        const element = document.querySelector('#df-49de20b8-574b-42ca-9f5c-00a456a6a2e5');\n",
              "        const dataTable =\n",
              "          await google.colab.kernel.invokeFunction('convertToInteractive',\n",
              "                                                    [key], {});\n",
              "        if (!dataTable) return;\n",
              "\n",
              "        const docLinkHtml = 'Like what you see? Visit the ' +\n",
              "          '<a target=\"_blank\" href=https://colab.research.google.com/notebooks/data_table.ipynb>data table notebook</a>'\n",
              "          + ' to learn more about interactive tables.';\n",
              "        element.innerHTML = '';\n",
              "        dataTable['output_type'] = 'display_data';\n",
              "        await google.colab.output.renderOutput(dataTable, element);\n",
              "        const docLink = document.createElement('div');\n",
              "        docLink.innerHTML = docLinkHtml;\n",
              "        element.appendChild(docLink);\n",
              "      }\n",
              "    </script>\n",
              "  </div>\n",
              "\n",
              "\n",
              "<div id=\"df-e84d1199-a11b-4001-bfd8-c00fa930c99b\">\n",
              "  <button class=\"colab-df-quickchart\" onclick=\"quickchart('df-e84d1199-a11b-4001-bfd8-c00fa930c99b')\"\n",
              "            title=\"Suggest charts.\"\n",
              "            style=\"display:none;\">\n",
              "\n",
              "<svg xmlns=\"http://www.w3.org/2000/svg\" height=\"24px\"viewBox=\"0 0 24 24\"\n",
              "     width=\"24px\">\n",
              "    <g>\n",
              "        <path d=\"M19 3H5c-1.1 0-2 .9-2 2v14c0 1.1.9 2 2 2h14c1.1 0 2-.9 2-2V5c0-1.1-.9-2-2-2zM9 17H7v-7h2v7zm4 0h-2V7h2v10zm4 0h-2v-4h2v4z\"/>\n",
              "    </g>\n",
              "</svg>\n",
              "  </button>\n",
              "\n",
              "<style>\n",
              "  .colab-df-quickchart {\n",
              "      --bg-color: #E8F0FE;\n",
              "      --fill-color: #1967D2;\n",
              "      --hover-bg-color: #E2EBFA;\n",
              "      --hover-fill-color: #174EA6;\n",
              "      --disabled-fill-color: #AAA;\n",
              "      --disabled-bg-color: #DDD;\n",
              "  }\n",
              "\n",
              "  [theme=dark] .colab-df-quickchart {\n",
              "      --bg-color: #3B4455;\n",
              "      --fill-color: #D2E3FC;\n",
              "      --hover-bg-color: #434B5C;\n",
              "      --hover-fill-color: #FFFFFF;\n",
              "      --disabled-bg-color: #3B4455;\n",
              "      --disabled-fill-color: #666;\n",
              "  }\n",
              "\n",
              "  .colab-df-quickchart {\n",
              "    background-color: var(--bg-color);\n",
              "    border: none;\n",
              "    border-radius: 50%;\n",
              "    cursor: pointer;\n",
              "    display: none;\n",
              "    fill: var(--fill-color);\n",
              "    height: 32px;\n",
              "    padding: 0;\n",
              "    width: 32px;\n",
              "  }\n",
              "\n",
              "  .colab-df-quickchart:hover {\n",
              "    background-color: var(--hover-bg-color);\n",
              "    box-shadow: 0 1px 2px rgba(60, 64, 67, 0.3), 0 1px 3px 1px rgba(60, 64, 67, 0.15);\n",
              "    fill: var(--button-hover-fill-color);\n",
              "  }\n",
              "\n",
              "  .colab-df-quickchart-complete:disabled,\n",
              "  .colab-df-quickchart-complete:disabled:hover {\n",
              "    background-color: var(--disabled-bg-color);\n",
              "    fill: var(--disabled-fill-color);\n",
              "    box-shadow: none;\n",
              "  }\n",
              "\n",
              "  .colab-df-spinner {\n",
              "    border: 2px solid var(--fill-color);\n",
              "    border-color: transparent;\n",
              "    border-bottom-color: var(--fill-color);\n",
              "    animation:\n",
              "      spin 1s steps(1) infinite;\n",
              "  }\n",
              "\n",
              "  @keyframes spin {\n",
              "    0% {\n",
              "      border-color: transparent;\n",
              "      border-bottom-color: var(--fill-color);\n",
              "      border-left-color: var(--fill-color);\n",
              "    }\n",
              "    20% {\n",
              "      border-color: transparent;\n",
              "      border-left-color: var(--fill-color);\n",
              "      border-top-color: var(--fill-color);\n",
              "    }\n",
              "    30% {\n",
              "      border-color: transparent;\n",
              "      border-left-color: var(--fill-color);\n",
              "      border-top-color: var(--fill-color);\n",
              "      border-right-color: var(--fill-color);\n",
              "    }\n",
              "    40% {\n",
              "      border-color: transparent;\n",
              "      border-right-color: var(--fill-color);\n",
              "      border-top-color: var(--fill-color);\n",
              "    }\n",
              "    60% {\n",
              "      border-color: transparent;\n",
              "      border-right-color: var(--fill-color);\n",
              "    }\n",
              "    80% {\n",
              "      border-color: transparent;\n",
              "      border-right-color: var(--fill-color);\n",
              "      border-bottom-color: var(--fill-color);\n",
              "    }\n",
              "    90% {\n",
              "      border-color: transparent;\n",
              "      border-bottom-color: var(--fill-color);\n",
              "    }\n",
              "  }\n",
              "</style>\n",
              "\n",
              "  <script>\n",
              "    async function quickchart(key) {\n",
              "      const quickchartButtonEl =\n",
              "        document.querySelector('#' + key + ' button');\n",
              "      quickchartButtonEl.disabled = true;  // To prevent multiple clicks.\n",
              "      quickchartButtonEl.classList.add('colab-df-spinner');\n",
              "      try {\n",
              "        const charts = await google.colab.kernel.invokeFunction(\n",
              "            'suggestCharts', [key], {});\n",
              "      } catch (error) {\n",
              "        console.error('Error during call to suggestCharts:', error);\n",
              "      }\n",
              "      quickchartButtonEl.classList.remove('colab-df-spinner');\n",
              "      quickchartButtonEl.classList.add('colab-df-quickchart-complete');\n",
              "    }\n",
              "    (() => {\n",
              "      let quickchartButtonEl =\n",
              "        document.querySelector('#df-e84d1199-a11b-4001-bfd8-c00fa930c99b button');\n",
              "      quickchartButtonEl.style.display =\n",
              "        google.colab.kernel.accessAllowed ? 'block' : 'none';\n",
              "    })();\n",
              "  </script>\n",
              "</div>\n",
              "    </div>\n",
              "  </div>\n"
            ]
          },
          "metadata": {},
          "execution_count": 36
        }
      ]
    },
    {
      "cell_type": "markdown",
      "source": [
        "# Cleaning the dataset"
      ],
      "metadata": {
        "id": "fxLnWPwCvACH"
      }
    },
    {
      "cell_type": "markdown",
      "source": [
        "# Splitting the dataset"
      ],
      "metadata": {
        "id": "o0W-qN5_vClg"
      }
    },
    {
      "cell_type": "code",
      "source": [
        "from sklearn.model_selection import train_test_split\n",
        "\n",
        "X = df_labeled.drop(['label'],axis=1)\n",
        "\n",
        "# Save the true labels into the y variable\n",
        "y = df_labeled[\"label\"]\n",
        "\n",
        "# Use 1/5 of the data for testing later\n",
        "X_train,X_test,y_train,y_test =  train_test_split(X,y,test_size=0.2,random_state=42,stratify=y)#stratify ensures that we have the same distribution in test and train dataset\n",
        "\n",
        "# Print number of comments for each set\n",
        "print(f\"There are {X_train.shape[0]} comments for training.\")\n",
        "print(f\"There are {X_test.shape[0]} comments for testing\")"
      ],
      "metadata": {
        "colab": {
          "base_uri": "https://localhost:8080/"
        },
        "id": "R3ucWXgh_gbz",
        "outputId": "b4fbb4ad-311e-4f56-ce53-71e50e22a9b4"
      },
      "execution_count": 39,
      "outputs": [
        {
          "output_type": "stream",
          "name": "stdout",
          "text": [
            "There are 1564 comments for training.\n",
            "There are 392 comments for testing\n"
          ]
        }
      ]
    },
    {
      "cell_type": "code",
      "source": [
        "y_train.value_counts()"
      ],
      "metadata": {
        "colab": {
          "base_uri": "https://localhost:8080/"
        },
        "id": "FRJ_ma38DGwC",
        "outputId": "2a0c0d78-2b22-48c0-9077-8b0187d49f70"
      },
      "execution_count": 43,
      "outputs": [
        {
          "output_type": "execute_result",
          "data": {
            "text/plain": [
              "1    804\n",
              "0    760\n",
              "Name: label, dtype: int64"
            ]
          },
          "metadata": {},
          "execution_count": 43
        }
      ]
    },
    {
      "cell_type": "code",
      "source": [
        "plt.subplot(2, 3, 4)#(num_rows, num_columns, position)\n",
        "y_train.value_counts().plot.pie(y='label', title='Proportion of each class for train set', figsize=(5, 5))\n",
        "plt.subplot(2, 3, 6)\n",
        "y_test.value_counts().plot.pie(y='label', title='Proportion of each class for test set', figsize=(5, 5))"
      ],
      "metadata": {
        "colab": {
          "base_uri": "https://localhost:8080/",
          "height": 190
        },
        "id": "_pVh6kVxC4pU",
        "outputId": "6d3babf6-c548-44a0-8a9b-7a1dd30bce99"
      },
      "execution_count": 58,
      "outputs": [
        {
          "output_type": "execute_result",
          "data": {
            "text/plain": [
              "<Axes: title={'center': 'Proportion of each class for test set'}, ylabel='label'>"
            ]
          },
          "metadata": {},
          "execution_count": 58
        },
        {
          "output_type": "display_data",
          "data": {
            "text/plain": [
              "<Figure size 500x500 with 2 Axes>"
            ],
            "image/png": "[encoded data removed]"
          },
          "metadata": {}
        }
      ]
    },
    {
      "cell_type": "markdown",
      "source": [
        "# **Data Labeling**\n",
        "***Establishing performance lower and upper bounds for reference:***\n",
        "To properly compare different labeling strategies you need to establish a baseline for model accuracy, in this case you will establish both a lower and an upper bound to compare against."
      ],
      "metadata": {
        "id": "UeLSeU4nvGT0"
      }
    },
    {
      "cell_type": "markdown",
      "source": [
        "# Calculate accuracy of a labeling strategy"
      ],
      "metadata": {
        "id": "8O-jdupZvK2_"
      }
    },
    {
      "cell_type": "code",
      "source": [
        "from sklearn.feature_extraction.text import CountVectorizer\n",
        "\n",
        "vectorizer = CountVectorizer(ngram_range=(1,5))#considers all n_grams starting from 1->5"
      ],
      "metadata": {
        "id": "tW5QnXJ4Ex4H"
      },
      "execution_count": 60,
      "outputs": []
    },
    {
      "cell_type": "code",
      "source": [
        "from sklearn.metrics import accuracy_score\n",
        "from sklearn.naive_bayes import MultinomialNB\n",
        "\n",
        "def calculate_accuracy(X_tr, y_tr, X_te=X_test, y_te=y_test,clf=MultinomialNB(), vectorizer=vectorizer):\n",
        "\n",
        "   # Encode train text\n",
        "   X_train_vect = vectorizer.fit_transform(X_tr.text.tolist())#get a list of texts\n",
        "   print(X_train_vect[:5])\n",
        "   # Fit model\n",
        "   clf.fit(X=X_train_vect,y=y_tr)\n",
        "\n",
        "   # Vectorize test text\n",
        "   X_test_vect = vectorizer.transform(X_te.text.tolist())\n",
        "\n",
        "   # Make predictions for the test set\n",
        "   preds = clf.predict(X_test_vect)\n",
        "\n",
        "   # Return accuracy score\n",
        "   return accuracy_score(preds,y_te)"
      ],
      "metadata": {
        "id": "a1Nh2gftEy8g"
      },
      "execution_count": 62,
      "outputs": []
    },
    {
      "cell_type": "code",
      "source": [
        "# Empty dictionary\n",
        "accs = dict()"
      ],
      "metadata": {
        "id": "EI9B5zjVMJEe"
      },
      "execution_count": 61,
      "outputs": []
    },
    {
      "cell_type": "markdown",
      "source": [
        "**Random Labeling**\n",
        "Generating random labels is a natural way to establish a lower bound. You will expect that any successful alternative labeling model to outperform randomly generated labels.\n",
        "\n",
        "Now let's calculate the accuracy for the random labeling method"
      ],
      "metadata": {
        "id": "91gl4OvAvXgh"
      }
    },
    {
      "cell_type": "code",
      "source": [
        "# Calculate random labels\n",
        "rnd_labels = np.random.randint(0, 2, X_train.shape[0])\n",
        "\n",
        "# Feed them alongside X_train to calculate_accuracy function\n",
        "rnd_acc = calculate_accuracy(X_train, rnd_labels)\n",
        "rnd_acc"
      ],
      "metadata": {
        "id": "3TsRuXDTd4g_"
      },
      "execution_count": null,
      "outputs": []
    },
    {
      "cell_type": "code",
      "source": [
        "# Empty list to save accuracies\n",
        "rnd_accs = []\n",
        "for _ in range(10):\n",
        "    # Add every accuracy to the list\n",
        "    rnd_accs.append(calculate_accuracy(X_train, np.random.randint(0, 2, X_train.shape[0])))\n",
        "# Save result in accs dictionary\n",
        "accs['random-labels'] = sum(rnd_accs)/len(rnd_accs)\n",
        "# Print result\n",
        "print(f\"The random labelling method achieved and accuracy of {accs['random-labels']*100:.2f}%\")"
      ],
      "metadata": {
        "colab": {
          "base_uri": "https://localhost:8080/"
        },
        "id": "k2y1lDgTj0sH",
        "outputId": "95400791-c6a3-4935-800a-9d9ff12ffbd0"
      },
      "execution_count": 75,
      "outputs": [
        {
          "output_type": "stream",
          "name": "stdout",
          "text": [
            "  (0, 30047)\t1\n",
            "  (1, 45858)\t1\n",
            "  (1, 52121)\t1\n",
            "  (1, 3160)\t1\n",
            "  (1, 33350)\t1\n",
            "  (1, 21361)\t1\n",
            "  (1, 8593)\t13\n",
            "  (1, 17741)\t1\n",
            "  (1, 38650)\t1\n",
            "  (1, 42521)\t1\n",
            "  (1, 15850)\t1\n",
            "  (1, 45907)\t1\n",
            "  (1, 52165)\t1\n",
            "  (1, 3232)\t1\n",
            "  (1, 33806)\t1\n",
            "  (1, 21366)\t1\n",
            "  (1, 8652)\t12\n",
            "  (1, 8844)\t1\n",
            "  (1, 18044)\t1\n",
            "  (1, 38668)\t1\n",
            "  (1, 42538)\t1\n",
            "  (1, 45908)\t1\n",
            "  (1, 52166)\t1\n",
            "  (1, 3233)\t1\n",
            "  (1, 33807)\t1\n",
            "  :\t:\n",
            "  (2, 11373)\t1\n",
            "  (2, 27291)\t1\n",
            "  (2, 9838)\t1\n",
            "  (2, 52325)\t1\n",
            "  (3, 33350)\t1\n",
            "  (3, 10965)\t1\n",
            "  (3, 37695)\t1\n",
            "  (3, 13201)\t1\n",
            "  (3, 39629)\t1\n",
            "  (3, 11084)\t1\n",
            "  (3, 37899)\t1\n",
            "  (3, 33632)\t1\n",
            "  (3, 13245)\t1\n",
            "  (3, 11142)\t1\n",
            "  (3, 37948)\t1\n",
            "  (3, 33645)\t1\n",
            "  (3, 11170)\t1\n",
            "  (3, 37953)\t1\n",
            "  (3, 11173)\t1\n",
            "  (4, 43671)\t1\n",
            "  (4, 6758)\t1\n",
            "  (4, 59254)\t1\n",
            "  (4, 43683)\t1\n",
            "  (4, 6815)\t1\n",
            "  (4, 43684)\t1\n",
            "  (0, 30047)\t1\n",
            "  (1, 45858)\t1\n",
            "  (1, 52121)\t1\n",
            "  (1, 3160)\t1\n",
            "  (1, 33350)\t1\n",
            "  (1, 21361)\t1\n",
            "  (1, 8593)\t13\n",
            "  (1, 17741)\t1\n",
            "  (1, 38650)\t1\n",
            "  (1, 42521)\t1\n",
            "  (1, 15850)\t1\n",
            "  (1, 45907)\t1\n",
            "  (1, 52165)\t1\n",
            "  (1, 3232)\t1\n",
            "  (1, 33806)\t1\n",
            "  (1, 21366)\t1\n",
            "  (1, 8652)\t12\n",
            "  (1, 8844)\t1\n",
            "  (1, 18044)\t1\n",
            "  (1, 38668)\t1\n",
            "  (1, 42538)\t1\n",
            "  (1, 45908)\t1\n",
            "  (1, 52166)\t1\n",
            "  (1, 3233)\t1\n",
            "  (1, 33807)\t1\n",
            "  :\t:\n",
            "  (2, 11373)\t1\n",
            "  (2, 27291)\t1\n",
            "  (2, 9838)\t1\n",
            "  (2, 52325)\t1\n",
            "  (3, 33350)\t1\n",
            "  (3, 10965)\t1\n",
            "  (3, 37695)\t1\n",
            "  (3, 13201)\t1\n",
            "  (3, 39629)\t1\n",
            "  (3, 11084)\t1\n",
            "  (3, 37899)\t1\n",
            "  (3, 33632)\t1\n",
            "  (3, 13245)\t1\n",
            "  (3, 11142)\t1\n",
            "  (3, 37948)\t1\n",
            "  (3, 33645)\t1\n",
            "  (3, 11170)\t1\n",
            "  (3, 37953)\t1\n",
            "  (3, 11173)\t1\n",
            "  (4, 43671)\t1\n",
            "  (4, 6758)\t1\n",
            "  (4, 59254)\t1\n",
            "  (4, 43683)\t1\n",
            "  (4, 6815)\t1\n",
            "  (4, 43684)\t1\n",
            "  (0, 30047)\t1\n",
            "  (1, 45858)\t1\n",
            "  (1, 52121)\t1\n",
            "  (1, 3160)\t1\n",
            "  (1, 33350)\t1\n",
            "  (1, 21361)\t1\n",
            "  (1, 8593)\t13\n",
            "  (1, 17741)\t1\n",
            "  (1, 38650)\t1\n",
            "  (1, 42521)\t1\n",
            "  (1, 15850)\t1\n",
            "  (1, 45907)\t1\n",
            "  (1, 52165)\t1\n",
            "  (1, 3232)\t1\n",
            "  (1, 33806)\t1\n",
            "  (1, 21366)\t1\n",
            "  (1, 8652)\t12\n",
            "  (1, 8844)\t1\n",
            "  (1, 18044)\t1\n",
            "  (1, 38668)\t1\n",
            "  (1, 42538)\t1\n",
            "  (1, 45908)\t1\n",
            "  (1, 52166)\t1\n",
            "  (1, 3233)\t1\n",
            "  (1, 33807)\t1\n",
            "  :\t:\n",
            "  (2, 11373)\t1\n",
            "  (2, 27291)\t1\n",
            "  (2, 9838)\t1\n",
            "  (2, 52325)\t1\n",
            "  (3, 33350)\t1\n",
            "  (3, 10965)\t1\n",
            "  (3, 37695)\t1\n",
            "  (3, 13201)\t1\n",
            "  (3, 39629)\t1\n",
            "  (3, 11084)\t1\n",
            "  (3, 37899)\t1\n",
            "  (3, 33632)\t1\n",
            "  (3, 13245)\t1\n",
            "  (3, 11142)\t1\n",
            "  (3, 37948)\t1\n",
            "  (3, 33645)\t1\n",
            "  (3, 11170)\t1\n",
            "  (3, 37953)\t1\n",
            "  (3, 11173)\t1\n",
            "  (4, 43671)\t1\n",
            "  (4, 6758)\t1\n",
            "  (4, 59254)\t1\n",
            "  (4, 43683)\t1\n",
            "  (4, 6815)\t1\n",
            "  (4, 43684)\t1\n",
            "  (0, 30047)\t1\n",
            "  (1, 45858)\t1\n",
            "  (1, 52121)\t1\n",
            "  (1, 3160)\t1\n",
            "  (1, 33350)\t1\n",
            "  (1, 21361)\t1\n",
            "  (1, 8593)\t13\n",
            "  (1, 17741)\t1\n",
            "  (1, 38650)\t1\n",
            "  (1, 42521)\t1\n",
            "  (1, 15850)\t1\n",
            "  (1, 45907)\t1\n",
            "  (1, 52165)\t1\n",
            "  (1, 3232)\t1\n",
            "  (1, 33806)\t1\n",
            "  (1, 21366)\t1\n",
            "  (1, 8652)\t12\n",
            "  (1, 8844)\t1\n",
            "  (1, 18044)\t1\n",
            "  (1, 38668)\t1\n",
            "  (1, 42538)\t1\n",
            "  (1, 45908)\t1\n",
            "  (1, 52166)\t1\n",
            "  (1, 3233)\t1\n",
            "  (1, 33807)\t1\n",
            "  :\t:\n",
            "  (2, 11373)\t1\n",
            "  (2, 27291)\t1\n",
            "  (2, 9838)\t1\n",
            "  (2, 52325)\t1\n",
            "  (3, 33350)\t1\n",
            "  (3, 10965)\t1\n",
            "  (3, 37695)\t1\n",
            "  (3, 13201)\t1\n",
            "  (3, 39629)\t1\n",
            "  (3, 11084)\t1\n",
            "  (3, 37899)\t1\n",
            "  (3, 33632)\t1\n",
            "  (3, 13245)\t1\n",
            "  (3, 11142)\t1\n",
            "  (3, 37948)\t1\n",
            "  (3, 33645)\t1\n",
            "  (3, 11170)\t1\n",
            "  (3, 37953)\t1\n",
            "  (3, 11173)\t1\n",
            "  (4, 43671)\t1\n",
            "  (4, 6758)\t1\n",
            "  (4, 59254)\t1\n",
            "  (4, 43683)\t1\n",
            "  (4, 6815)\t1\n",
            "  (4, 43684)\t1\n",
            "  (0, 30047)\t1\n",
            "  (1, 45858)\t1\n",
            "  (1, 52121)\t1\n",
            "  (1, 3160)\t1\n",
            "  (1, 33350)\t1\n",
            "  (1, 21361)\t1\n",
            "  (1, 8593)\t13\n",
            "  (1, 17741)\t1\n",
            "  (1, 38650)\t1\n",
            "  (1, 42521)\t1\n",
            "  (1, 15850)\t1\n",
            "  (1, 45907)\t1\n",
            "  (1, 52165)\t1\n",
            "  (1, 3232)\t1\n",
            "  (1, 33806)\t1\n",
            "  (1, 21366)\t1\n",
            "  (1, 8652)\t12\n",
            "  (1, 8844)\t1\n",
            "  (1, 18044)\t1\n",
            "  (1, 38668)\t1\n",
            "  (1, 42538)\t1\n",
            "  (1, 45908)\t1\n",
            "  (1, 52166)\t1\n",
            "  (1, 3233)\t1\n",
            "  (1, 33807)\t1\n",
            "  :\t:\n",
            "  (2, 11373)\t1\n",
            "  (2, 27291)\t1\n",
            "  (2, 9838)\t1\n",
            "  (2, 52325)\t1\n",
            "  (3, 33350)\t1\n",
            "  (3, 10965)\t1\n",
            "  (3, 37695)\t1\n",
            "  (3, 13201)\t1\n",
            "  (3, 39629)\t1\n",
            "  (3, 11084)\t1\n",
            "  (3, 37899)\t1\n",
            "  (3, 33632)\t1\n",
            "  (3, 13245)\t1\n",
            "  (3, 11142)\t1\n",
            "  (3, 37948)\t1\n",
            "  (3, 33645)\t1\n",
            "  (3, 11170)\t1\n",
            "  (3, 37953)\t1\n",
            "  (3, 11173)\t1\n",
            "  (4, 43671)\t1\n",
            "  (4, 6758)\t1\n",
            "  (4, 59254)\t1\n",
            "  (4, 43683)\t1\n",
            "  (4, 6815)\t1\n",
            "  (4, 43684)\t1\n",
            "  (0, 30047)\t1\n",
            "  (1, 45858)\t1\n",
            "  (1, 52121)\t1\n",
            "  (1, 3160)\t1\n",
            "  (1, 33350)\t1\n",
            "  (1, 21361)\t1\n",
            "  (1, 8593)\t13\n",
            "  (1, 17741)\t1\n",
            "  (1, 38650)\t1\n",
            "  (1, 42521)\t1\n",
            "  (1, 15850)\t1\n",
            "  (1, 45907)\t1\n",
            "  (1, 52165)\t1\n",
            "  (1, 3232)\t1\n",
            "  (1, 33806)\t1\n",
            "  (1, 21366)\t1\n",
            "  (1, 8652)\t12\n",
            "  (1, 8844)\t1\n",
            "  (1, 18044)\t1\n",
            "  (1, 38668)\t1\n",
            "  (1, 42538)\t1\n",
            "  (1, 45908)\t1\n",
            "  (1, 52166)\t1\n",
            "  (1, 3233)\t1\n",
            "  (1, 33807)\t1\n",
            "  :\t:\n",
            "  (2, 11373)\t1\n",
            "  (2, 27291)\t1\n",
            "  (2, 9838)\t1\n",
            "  (2, 52325)\t1\n",
            "  (3, 33350)\t1\n",
            "  (3, 10965)\t1\n",
            "  (3, 37695)\t1\n",
            "  (3, 13201)\t1\n",
            "  (3, 39629)\t1\n",
            "  (3, 11084)\t1\n",
            "  (3, 37899)\t1\n",
            "  (3, 33632)\t1\n",
            "  (3, 13245)\t1\n",
            "  (3, 11142)\t1\n",
            "  (3, 37948)\t1\n",
            "  (3, 33645)\t1\n",
            "  (3, 11170)\t1\n",
            "  (3, 37953)\t1\n",
            "  (3, 11173)\t1\n",
            "  (4, 43671)\t1\n",
            "  (4, 6758)\t1\n",
            "  (4, 59254)\t1\n",
            "  (4, 43683)\t1\n",
            "  (4, 6815)\t1\n",
            "  (4, 43684)\t1\n",
            "  (0, 30047)\t1\n",
            "  (1, 45858)\t1\n",
            "  (1, 52121)\t1\n",
            "  (1, 3160)\t1\n",
            "  (1, 33350)\t1\n",
            "  (1, 21361)\t1\n",
            "  (1, 8593)\t13\n",
            "  (1, 17741)\t1\n",
            "  (1, 38650)\t1\n",
            "  (1, 42521)\t1\n",
            "  (1, 15850)\t1\n",
            "  (1, 45907)\t1\n",
            "  (1, 52165)\t1\n",
            "  (1, 3232)\t1\n",
            "  (1, 33806)\t1\n",
            "  (1, 21366)\t1\n",
            "  (1, 8652)\t12\n",
            "  (1, 8844)\t1\n",
            "  (1, 18044)\t1\n",
            "  (1, 38668)\t1\n",
            "  (1, 42538)\t1\n",
            "  (1, 45908)\t1\n",
            "  (1, 52166)\t1\n",
            "  (1, 3233)\t1\n",
            "  (1, 33807)\t1\n",
            "  :\t:\n",
            "  (2, 11373)\t1\n",
            "  (2, 27291)\t1\n",
            "  (2, 9838)\t1\n",
            "  (2, 52325)\t1\n",
            "  (3, 33350)\t1\n",
            "  (3, 10965)\t1\n",
            "  (3, 37695)\t1\n",
            "  (3, 13201)\t1\n",
            "  (3, 39629)\t1\n",
            "  (3, 11084)\t1\n",
            "  (3, 37899)\t1\n",
            "  (3, 33632)\t1\n",
            "  (3, 13245)\t1\n",
            "  (3, 11142)\t1\n",
            "  (3, 37948)\t1\n",
            "  (3, 33645)\t1\n",
            "  (3, 11170)\t1\n",
            "  (3, 37953)\t1\n",
            "  (3, 11173)\t1\n",
            "  (4, 43671)\t1\n",
            "  (4, 6758)\t1\n",
            "  (4, 59254)\t1\n",
            "  (4, 43683)\t1\n",
            "  (4, 6815)\t1\n",
            "  (4, 43684)\t1\n",
            "  (0, 30047)\t1\n",
            "  (1, 45858)\t1\n",
            "  (1, 52121)\t1\n",
            "  (1, 3160)\t1\n",
            "  (1, 33350)\t1\n",
            "  (1, 21361)\t1\n",
            "  (1, 8593)\t13\n",
            "  (1, 17741)\t1\n",
            "  (1, 38650)\t1\n",
            "  (1, 42521)\t1\n",
            "  (1, 15850)\t1\n",
            "  (1, 45907)\t1\n",
            "  (1, 52165)\t1\n",
            "  (1, 3232)\t1\n",
            "  (1, 33806)\t1\n",
            "  (1, 21366)\t1\n",
            "  (1, 8652)\t12\n",
            "  (1, 8844)\t1\n",
            "  (1, 18044)\t1\n",
            "  (1, 38668)\t1\n",
            "  (1, 42538)\t1\n",
            "  (1, 45908)\t1\n",
            "  (1, 52166)\t1\n",
            "  (1, 3233)\t1\n",
            "  (1, 33807)\t1\n",
            "  :\t:\n",
            "  (2, 11373)\t1\n",
            "  (2, 27291)\t1\n",
            "  (2, 9838)\t1\n",
            "  (2, 52325)\t1\n",
            "  (3, 33350)\t1\n",
            "  (3, 10965)\t1\n",
            "  (3, 37695)\t1\n",
            "  (3, 13201)\t1\n",
            "  (3, 39629)\t1\n",
            "  (3, 11084)\t1\n",
            "  (3, 37899)\t1\n",
            "  (3, 33632)\t1\n",
            "  (3, 13245)\t1\n",
            "  (3, 11142)\t1\n",
            "  (3, 37948)\t1\n",
            "  (3, 33645)\t1\n",
            "  (3, 11170)\t1\n",
            "  (3, 37953)\t1\n",
            "  (3, 11173)\t1\n",
            "  (4, 43671)\t1\n",
            "  (4, 6758)\t1\n",
            "  (4, 59254)\t1\n",
            "  (4, 43683)\t1\n",
            "  (4, 6815)\t1\n",
            "  (4, 43684)\t1\n",
            "  (0, 30047)\t1\n",
            "  (1, 45858)\t1\n",
            "  (1, 52121)\t1\n",
            "  (1, 3160)\t1\n",
            "  (1, 33350)\t1\n",
            "  (1, 21361)\t1\n",
            "  (1, 8593)\t13\n",
            "  (1, 17741)\t1\n",
            "  (1, 38650)\t1\n",
            "  (1, 42521)\t1\n",
            "  (1, 15850)\t1\n",
            "  (1, 45907)\t1\n",
            "  (1, 52165)\t1\n",
            "  (1, 3232)\t1\n",
            "  (1, 33806)\t1\n",
            "  (1, 21366)\t1\n",
            "  (1, 8652)\t12\n",
            "  (1, 8844)\t1\n",
            "  (1, 18044)\t1\n",
            "  (1, 38668)\t1\n",
            "  (1, 42538)\t1\n",
            "  (1, 45908)\t1\n",
            "  (1, 52166)\t1\n",
            "  (1, 3233)\t1\n",
            "  (1, 33807)\t1\n",
            "  :\t:\n",
            "  (2, 11373)\t1\n",
            "  (2, 27291)\t1\n",
            "  (2, 9838)\t1\n",
            "  (2, 52325)\t1\n",
            "  (3, 33350)\t1\n",
            "  (3, 10965)\t1\n",
            "  (3, 37695)\t1\n",
            "  (3, 13201)\t1\n",
            "  (3, 39629)\t1\n",
            "  (3, 11084)\t1\n",
            "  (3, 37899)\t1\n",
            "  (3, 33632)\t1\n",
            "  (3, 13245)\t1\n",
            "  (3, 11142)\t1\n",
            "  (3, 37948)\t1\n",
            "  (3, 33645)\t1\n",
            "  (3, 11170)\t1\n",
            "  (3, 37953)\t1\n",
            "  (3, 11173)\t1\n",
            "  (4, 43671)\t1\n",
            "  (4, 6758)\t1\n",
            "  (4, 59254)\t1\n",
            "  (4, 43683)\t1\n",
            "  (4, 6815)\t1\n",
            "  (4, 43684)\t1\n",
            "  (0, 30047)\t1\n",
            "  (1, 45858)\t1\n",
            "  (1, 52121)\t1\n",
            "  (1, 3160)\t1\n",
            "  (1, 33350)\t1\n",
            "  (1, 21361)\t1\n",
            "  (1, 8593)\t13\n",
            "  (1, 17741)\t1\n",
            "  (1, 38650)\t1\n",
            "  (1, 42521)\t1\n",
            "  (1, 15850)\t1\n",
            "  (1, 45907)\t1\n",
            "  (1, 52165)\t1\n",
            "  (1, 3232)\t1\n",
            "  (1, 33806)\t1\n",
            "  (1, 21366)\t1\n",
            "  (1, 8652)\t12\n",
            "  (1, 8844)\t1\n",
            "  (1, 18044)\t1\n",
            "  (1, 38668)\t1\n",
            "  (1, 42538)\t1\n",
            "  (1, 45908)\t1\n",
            "  (1, 52166)\t1\n",
            "  (1, 3233)\t1\n",
            "  (1, 33807)\t1\n",
            "  :\t:\n",
            "  (2, 11373)\t1\n",
            "  (2, 27291)\t1\n",
            "  (2, 9838)\t1\n",
            "  (2, 52325)\t1\n",
            "  (3, 33350)\t1\n",
            "  (3, 10965)\t1\n",
            "  (3, 37695)\t1\n",
            "  (3, 13201)\t1\n",
            "  (3, 39629)\t1\n",
            "  (3, 11084)\t1\n",
            "  (3, 37899)\t1\n",
            "  (3, 33632)\t1\n",
            "  (3, 13245)\t1\n",
            "  (3, 11142)\t1\n",
            "  (3, 37948)\t1\n",
            "  (3, 33645)\t1\n",
            "  (3, 11170)\t1\n",
            "  (3, 37953)\t1\n",
            "  (3, 11173)\t1\n",
            "  (4, 43671)\t1\n",
            "  (4, 6758)\t1\n",
            "  (4, 59254)\t1\n",
            "  (4, 43683)\t1\n",
            "  (4, 6815)\t1\n",
            "  (4, 43684)\t1\n",
            "The random labelling method achieved and accuracy of 48.67%\n"
          ]
        }
      ]
    },
    {
      "cell_type": "markdown",
      "source": [
        "*Random labelling is completely disregarding the information from the solution space you are working on, and is just guessing the correct label. You can't probably do worse than this (or maybe you can). For this reason, this method serves as reference for comparing other labeling methods*"
      ],
      "metadata": {
        "id": "J68GukQ2kVqz"
      }
    },
    {
      "cell_type": "markdown",
      "source": [
        "**Labeling with true values**"
      ],
      "metadata": {
        "id": "Z58Rrw--vdgd"
      }
    },
    {
      "cell_type": "code",
      "source": [
        "# Calculate accuracy when using the true labels\n",
        "true_acc = calculate_accuracy(X_train, y_train)\n",
        "\n",
        "# Save the result\n",
        "accs['true-labels'] = true_acc\n",
        "\n",
        "print(f\"The true labelling method achieved and accuracy of {accs['true-labels']*100:.2f}%\")"
      ],
      "metadata": {
        "colab": {
          "base_uri": "https://localhost:8080/"
        },
        "id": "NPfFENX4j018",
        "outputId": "888c1d56-0bcb-4d6b-e5e7-901950fcc865"
      },
      "execution_count": 76,
      "outputs": [
        {
          "output_type": "stream",
          "name": "stdout",
          "text": [
            "  (0, 30047)\t1\n",
            "  (1, 45858)\t1\n",
            "  (1, 52121)\t1\n",
            "  (1, 3160)\t1\n",
            "  (1, 33350)\t1\n",
            "  (1, 21361)\t1\n",
            "  (1, 8593)\t13\n",
            "  (1, 17741)\t1\n",
            "  (1, 38650)\t1\n",
            "  (1, 42521)\t1\n",
            "  (1, 15850)\t1\n",
            "  (1, 45907)\t1\n",
            "  (1, 52165)\t1\n",
            "  (1, 3232)\t1\n",
            "  (1, 33806)\t1\n",
            "  (1, 21366)\t1\n",
            "  (1, 8652)\t12\n",
            "  (1, 8844)\t1\n",
            "  (1, 18044)\t1\n",
            "  (1, 38668)\t1\n",
            "  (1, 42538)\t1\n",
            "  (1, 45908)\t1\n",
            "  (1, 52166)\t1\n",
            "  (1, 3233)\t1\n",
            "  (1, 33807)\t1\n",
            "  :\t:\n",
            "  (2, 11373)\t1\n",
            "  (2, 27291)\t1\n",
            "  (2, 9838)\t1\n",
            "  (2, 52325)\t1\n",
            "  (3, 33350)\t1\n",
            "  (3, 10965)\t1\n",
            "  (3, 37695)\t1\n",
            "  (3, 13201)\t1\n",
            "  (3, 39629)\t1\n",
            "  (3, 11084)\t1\n",
            "  (3, 37899)\t1\n",
            "  (3, 33632)\t1\n",
            "  (3, 13245)\t1\n",
            "  (3, 11142)\t1\n",
            "  (3, 37948)\t1\n",
            "  (3, 33645)\t1\n",
            "  (3, 11170)\t1\n",
            "  (3, 37953)\t1\n",
            "  (3, 11173)\t1\n",
            "  (4, 43671)\t1\n",
            "  (4, 6758)\t1\n",
            "  (4, 59254)\t1\n",
            "  (4, 43683)\t1\n",
            "  (4, 6815)\t1\n",
            "  (4, 43684)\t1\n",
            "The true labelling method achieved and accuracy of 90.82%\n"
          ]
        }
      ]
    },
    {
      "cell_type": "markdown",
      "source": [
        "# **Automatic labeling - Trying out different labeling strategies**"
      ],
      "metadata": {
        "id": "MmMmQStIvhtl"
      }
    },
    {
      "cell_type": "markdown",
      "source": [
        "***First iteration - Define some rules***"
      ],
      "metadata": {
        "id": "tauFCaHyvnEg"
      }
    },
    {
      "cell_type": "code",
      "source": [
        "def labeling_rules_1(x):\n",
        "  x=x.lower()\n",
        "  rules=[\n",
        "      \"free\" in x,\n",
        "      \"subs\" in x,\n",
        "      \"http\" in x\n",
        "  ]\n",
        "  if any(rules):\n",
        "     return 1\n",
        "  return -1"
      ],
      "metadata": {
        "id": "h7u-Zxdgp7KN"
      },
      "execution_count": 80,
      "outputs": []
    },
    {
      "cell_type": "code",
      "source": [
        "labels = [labeling_rules_1(label) for label in X_train.text]\n",
        "# Convert to a numpy array\n",
        "labels = np.asarray(labels)\n",
        "labels"
      ],
      "metadata": {
        "colab": {
          "base_uri": "https://localhost:8080/"
        },
        "id": "yPR1RYnYsH4I",
        "outputId": "66a6a915-0274-4472-9471-bb813974160b"
      },
      "execution_count": 82,
      "outputs": [
        {
          "output_type": "execute_result",
          "data": {
            "text/plain": [
              "array([-1, -1, -1, ..., -1, -1,  1])"
            ]
          },
          "metadata": {},
          "execution_count": 82
        }
      ]
    },
    {
      "cell_type": "code",
      "source": [
        "X_train.shape"
      ],
      "metadata": {
        "colab": {
          "base_uri": "https://localhost:8080/"
        },
        "id": "SQ7xeddKtn0r",
        "outputId": "2cb4ecc1-c73f-49ba-e54e-11a8bc82716b"
      },
      "execution_count": 86,
      "outputs": [
        {
          "output_type": "execute_result",
          "data": {
            "text/plain": [
              "(1564, 1)"
            ]
          },
          "metadata": {},
          "execution_count": 86
        }
      ]
    },
    {
      "cell_type": "code",
      "source": [
        "labels"
      ],
      "metadata": {
        "colab": {
          "base_uri": "https://localhost:8080/"
        },
        "id": "pOz1Hul1zF1a",
        "outputId": "e2c60d19-49aa-4a31-aa65-7dedbcfd0b74"
      },
      "execution_count": 88,
      "outputs": [
        {
          "output_type": "execute_result",
          "data": {
            "text/plain": [
              "array([-1, -1, -1, ..., -1, -1,  1])"
            ]
          },
          "metadata": {},
          "execution_count": 88
        }
      ]
    },
    {
      "cell_type": "code",
      "source": [
        "# Create the automatic labeled version of X_train by removing points with NO_LABEL label\n",
        "X_train_al = X_train[labels != -1]\n",
        "print(X_train_al.shape)\n",
        "# Remove predictions with NO_LABEL label\n",
        "labels_al = labels[labels != -1]\n",
        "\n",
        "print(f\"Predictions with concrete label have shape: {labels_al.shape}\")\n",
        "print(f\"Proportion of data points kept: {labels_al.shape[0]/labels.shape[0]*100:.2f}%\")"
      ],
      "metadata": {
        "colab": {
          "base_uri": "https://localhost:8080/"
        },
        "id": "T2ubu6J4tQD_",
        "outputId": "e4f5db60-033b-4f31-9133-b83359e485a2"
      },
      "execution_count": 87,
      "outputs": [
        {
          "output_type": "stream",
          "name": "stdout",
          "text": [
            "(381, 1)\n",
            "Predictions with concrete label have shape: (381,)\n",
            "Proportion of data points kept: 24.36%\n"
          ]
        }
      ]
    },
    {
      "cell_type": "code",
      "source": [
        "# Compute accuracy when using these labels\n",
        "iter_1_acc = calculate_accuracy(X_train_al, labels_al)\n",
        "\n",
        "# Display accuracy\n",
        "print(f\"First iteration of automatic labeling has an accuracy of {iter_1_acc*100:.2f}%\")\n",
        "\n",
        "# Save the result\n",
        "accs['first-iteration'] = iter_1_acc"
      ],
      "metadata": {
        "colab": {
          "base_uri": "https://localhost:8080/"
        },
        "id": "-g8t--gkzQtI",
        "outputId": "77d5f8b1-62e1-425f-d625-0a577b5b553e"
      },
      "execution_count": 89,
      "outputs": [
        {
          "output_type": "stream",
          "name": "stdout",
          "text": [
            "  (0, 21272)\t1\n",
            "  (0, 15356)\t1\n",
            "  (0, 5229)\t1\n",
            "  (0, 21395)\t1\n",
            "  (0, 15400)\t1\n",
            "  (0, 21397)\t1\n",
            "  (1, 21272)\t1\n",
            "  (1, 15356)\t1\n",
            "  (1, 5442)\t1\n",
            "  (1, 17310)\t2\n",
            "  (1, 6525)\t1\n",
            "  (1, 10249)\t1\n",
            "  (1, 24766)\t1\n",
            "  (1, 6192)\t1\n",
            "  (1, 18063)\t1\n",
            "  (1, 5476)\t1\n",
            "  (1, 17371)\t1\n",
            "  (1, 15531)\t1\n",
            "  (1, 6549)\t1\n",
            "  (1, 10356)\t1\n",
            "  (1, 24782)\t1\n",
            "  (1, 6193)\t1\n",
            "  (1, 17445)\t1\n",
            "  (1, 18261)\t1\n",
            "  (1, 5480)\t1\n",
            "  :\t:\n",
            "  (4, 21272)\t1\n",
            "  (4, 2270)\t1\n",
            "  (4, 3152)\t1\n",
            "  (4, 9654)\t1\n",
            "  (4, 10402)\t1\n",
            "  (4, 14375)\t1\n",
            "  (4, 19535)\t1\n",
            "  (4, 21288)\t1\n",
            "  (4, 2300)\t1\n",
            "  (4, 3171)\t1\n",
            "  (4, 9655)\t1\n",
            "  (4, 10407)\t1\n",
            "  (4, 14617)\t1\n",
            "  (4, 21289)\t1\n",
            "  (4, 2301)\t1\n",
            "  (4, 3172)\t1\n",
            "  (4, 9656)\t1\n",
            "  (4, 10408)\t1\n",
            "  (4, 21290)\t1\n",
            "  (4, 2302)\t1\n",
            "  (4, 3173)\t1\n",
            "  (4, 9657)\t1\n",
            "  (4, 21291)\t1\n",
            "  (4, 2303)\t1\n",
            "  (4, 3174)\t1\n",
            "First iteration of automatic labeling has an accuracy of 51.28%\n"
          ]
        }
      ]
    },
    {
      "cell_type": "code",
      "source": [
        "def plot_accuracies(accs=accs):\n",
        "    colors = list(\"rgbcmy\")\n",
        "    items_num = len(accs)\n",
        "    cont = 1\n",
        "\n",
        "    for x, y in accs.items():\n",
        "        if x in ['true-labels', 'random-labels', 'true-labels-best-clf']:\n",
        "            plt.hlines(y, 0, (items_num-2)*2, colors=colors.pop())\n",
        "        else:\n",
        "            plt.scatter(cont, y, s=100)\n",
        "            cont+=2\n",
        "    plt.legend(accs.keys(), loc=\"center left\",bbox_to_anchor=(1, 0.5))\n",
        "\n",
        "\n",
        "plot_accuracies()"
      ],
      "metadata": {
        "colab": {
          "base_uri": "https://localhost:8080/",
          "height": 430
        },
        "id": "wFlhiafKzYYU",
        "outputId": "17f032c0-7bca-4c82-be54-ae4a9e5b6751"
      },
      "execution_count": 93,
      "outputs": [
        {
          "output_type": "display_data",
          "data": {
            "text/plain": [
              "<Figure size 640x480 with 1 Axes>"
            ],
            "image/png": "[encoded data removed]"
          },
          "metadata": {}
        }
      ]
    },
    {
      "cell_type": "code",
      "source": [
        "def label_given_rules(df, rules_function, name,\n",
        "                      accs_dict=accs, verbose=True):\n",
        "\n",
        "    # Apply labeling rules to the comments\n",
        "    labels = [rules_function(label) for label in df.text]\n",
        "\n",
        "    # Convert to a numpy array\n",
        "    labels = np.asarray(labels)\n",
        "\n",
        "    # Save initial number of data points\n",
        "    initial_size = labels.shape[0]\n",
        "\n",
        "    # Trim points with NO_LABEL label\n",
        "    X_train_al = df[labels != -1]\n",
        "    labels = labels[labels != -1]\n",
        "\n",
        "    # Save number of data points after trimming\n",
        "    final_size = labels.shape[0]\n",
        "\n",
        "    # Compute accuracy\n",
        "    acc = calculate_accuracy(X_train_al, labels)\n",
        "\n",
        "    # Print useful information\n",
        "    if verbose:\n",
        "        print(f\"Proportion of data points kept: {final_size/initial_size*100:.2f}%\\n\")\n",
        "        print(f\"{name} labeling has an accuracy of {acc*100:.2f}%\\n\")\n",
        "\n",
        "    # Save accuracy to accuracies dictionary\n",
        "    accs_dict[name] = acc\n",
        "\n",
        "    return X_train_al, labels, acc"
      ],
      "metadata": {
        "id": "Bnt3T5vCzw9z"
      },
      "execution_count": 94,
      "outputs": []
    },
    {
      "cell_type": "markdown",
      "source": [
        "***Second iteration - Coming up with better rules***"
      ],
      "metadata": {
        "id": "c_AqJPkDvqcd"
      }
    },
    {
      "cell_type": "code",
      "source": [
        "def labeling_rules_2(x):\n",
        "\n",
        "    # Convert text to lowercase\n",
        "    x = x.lower()\n",
        "\n",
        "    # Define list of rules to classify as NOT_SPAM\n",
        "    not_spam_rules = [\n",
        "        \"view\" in x,\n",
        "        \"song\" in x\n",
        "    ]\n",
        "\n",
        "    # Define list of rules to classify as SPAM\n",
        "    spam_rules = [\n",
        "        \"free\" in x,\n",
        "        \"subs\" in x,\n",
        "        \"gift\" in x,\n",
        "        \"follow\" in x,\n",
        "        \"http\" in x\n",
        "    ]\n",
        "\n",
        "    # Classify depending on the rules\n",
        "    if any(not_spam_rules):\n",
        "        return 0\n",
        "\n",
        "    if any(spam_rules):\n",
        "        return 1\n",
        "\n",
        "    return -1"
      ],
      "metadata": {
        "id": "6o0xsQgkz5f9"
      },
      "execution_count": 95,
      "outputs": []
    },
    {
      "cell_type": "code",
      "source": [
        "label_given_rules(X_train, labeling_rules_2, \"second-iteration\")\n",
        "\n",
        "plot_accuracies()"
      ],
      "metadata": {
        "colab": {
          "base_uri": "https://localhost:8080/",
          "height": 1000
        },
        "id": "iMlZxtvdp7wJ",
        "outputId": "cb77d855-41f0-4456-85f9-d95829bb03d0"
      },
      "execution_count": 96,
      "outputs": [
        {
          "output_type": "stream",
          "name": "stdout",
          "text": [
            "  (0, 18367)\t1\n",
            "  (0, 6823)\t1\n",
            "  (0, 34725)\t1\n",
            "  (0, 7628)\t1\n",
            "  (0, 32527)\t1\n",
            "  (0, 37088)\t1\n",
            "  (0, 9078)\t1\n",
            "  (0, 18398)\t1\n",
            "  (0, 6842)\t1\n",
            "  (0, 34836)\t1\n",
            "  (0, 7800)\t1\n",
            "  (0, 33284)\t1\n",
            "  (0, 37098)\t1\n",
            "  (0, 18402)\t1\n",
            "  (0, 6843)\t1\n",
            "  (0, 34850)\t1\n",
            "  (0, 7807)\t1\n",
            "  (0, 33285)\t1\n",
            "  (0, 18403)\t1\n",
            "  (0, 6844)\t1\n",
            "  (0, 34853)\t1\n",
            "  (0, 7808)\t1\n",
            "  (0, 18404)\t1\n",
            "  (0, 6845)\t1\n",
            "  (0, 34854)\t1\n",
            "  :\t:\n",
            "  (4, 33380)\t1\n",
            "  (4, 39157)\t1\n",
            "  (4, 8808)\t1\n",
            "  (4, 29709)\t1\n",
            "  (4, 13623)\t1\n",
            "  (4, 18263)\t1\n",
            "  (4, 27322)\t1\n",
            "  (4, 3955)\t1\n",
            "  (4, 40587)\t1\n",
            "  (4, 38256)\t1\n",
            "  (4, 6981)\t1\n",
            "  (4, 28684)\t1\n",
            "  (4, 34207)\t1\n",
            "  (4, 30212)\t1\n",
            "  (4, 14762)\t1\n",
            "  (4, 18412)\t1\n",
            "  (4, 7380)\t1\n",
            "  (4, 33381)\t1\n",
            "  (4, 39158)\t1\n",
            "  (4, 8809)\t1\n",
            "  (4, 29710)\t1\n",
            "  (4, 13624)\t1\n",
            "  (4, 18264)\t1\n",
            "  (4, 27323)\t1\n",
            "  (4, 3956)\t1\n",
            "Proportion of data points kept: 44.69%\n",
            "\n",
            "second-iteration labeling has an accuracy of 72.70%\n",
            "\n"
          ]
        },
        {
          "output_type": "display_data",
          "data": {
            "text/plain": [
              "<Figure size 640x480 with 1 Axes>"
            ],
            "image/png": "[encoded data removed]"
          },
          "metadata": {}
        }
      ]
    },
    {
      "cell_type": "code",
      "source": [
        "from statistics import mean\n",
        "\n",
        "print(f\"NOT_SPAM comments have an average of {mean([len(t) for t in df_labeled[df_labeled.label==0].text]):.2f} characters.\")\n",
        "print(f\"SPAM comments have an average of {mean([len(t) for t in df_labeled[df_labeled.label==1].text]):.2f} characters.\")"
      ],
      "metadata": {
        "colab": {
          "base_uri": "https://localhost:8080/"
        },
        "id": "4rotfoV60rEH",
        "outputId": "6f7ee439-371b-4385-d52b-5fdc12a609ce"
      },
      "execution_count": 97,
      "outputs": [
        {
          "output_type": "stream",
          "name": "stdout",
          "text": [
            "NOT_SPAM comments have an average of 49.64 characters.\n",
            "SPAM comments have an average of 137.34 characters.\n"
          ]
        }
      ]
    },
    {
      "cell_type": "code",
      "source": [
        "plt.hist([len(t) for t in df_labeled[df_labeled.label==0].text], range=(0,100))\n",
        "plt.show()"
      ],
      "metadata": {
        "colab": {
          "base_uri": "https://localhost:8080/",
          "height": 430
        },
        "id": "GsNt_7aX0u-B",
        "outputId": "1573673d-0a4d-4e70-d272-1c595f9f14e7"
      },
      "execution_count": 98,
      "outputs": [
        {
          "output_type": "display_data",
          "data": {
            "text/plain": [
              "<Figure size 640x480 with 1 Axes>"
            ],
            "image/png": "[encoded data removed]"
          },
          "metadata": {}
        }
      ]
    },
    {
      "cell_type": "markdown",
      "source": [
        "***Third Iteration - Even more rules***"
      ],
      "metadata": {
        "id": "LKJyVl7YvvfU"
      }
    },
    {
      "cell_type": "code",
      "source": [
        "def labeling_rules_3(x):\n",
        "\n",
        "    # Convert text to lowercase\n",
        "    x = x.lower()\n",
        "\n",
        "    # Define list of rules to classify as NOT_SPAM\n",
        "    not_spam_rules = [\n",
        "        \"view\" in x,\n",
        "        \"song\" in x,\n",
        "        len(x) < 30\n",
        "    ]\n",
        "\n",
        "\n",
        "    # Define list of rules to classify as SPAM\n",
        "    spam_rules = [\n",
        "        \"free\" in x,\n",
        "        \"subs\" in x,\n",
        "        \"gift\" in x,\n",
        "        \"follow\" in x,\n",
        "        \"http\" in x,\n",
        "        \"check out\" in x\n",
        "    ]\n",
        "\n",
        "    # Classify depending on the rules\n",
        "    if any(not_spam_rules):\n",
        "        return 0\n",
        "\n",
        "    if any(spam_rules):\n",
        "        return 1\n",
        "\n",
        "    return -1"
      ],
      "metadata": {
        "id": "INAktXRn1KwF"
      },
      "execution_count": 99,
      "outputs": []
    },
    {
      "cell_type": "code",
      "source": [
        "label_given_rules(X_train, labeling_rules_3, \"third-iteration\")\n",
        "\n",
        "plot_accuracies()"
      ],
      "metadata": {
        "colab": {
          "base_uri": "https://localhost:8080/",
          "height": 1000
        },
        "id": "QiH7d_ksp8Vv",
        "outputId": "a66119d7-7673-4289-cc9f-e87ac4651c49"
      },
      "execution_count": 100,
      "outputs": [
        {
          "output_type": "stream",
          "name": "stdout",
          "text": [
            "  (0, 23343)\t1\n",
            "  (1, 21187)\t1\n",
            "  (1, 7656)\t1\n",
            "  (1, 40561)\t1\n",
            "  (1, 8578)\t1\n",
            "  (1, 37927)\t1\n",
            "  (1, 43296)\t1\n",
            "  (1, 10384)\t1\n",
            "  (1, 21218)\t1\n",
            "  (1, 7675)\t1\n",
            "  (1, 40677)\t1\n",
            "  (1, 8941)\t1\n",
            "  (1, 38950)\t1\n",
            "  (1, 43306)\t1\n",
            "  (1, 21222)\t1\n",
            "  (1, 7676)\t1\n",
            "  (1, 40694)\t1\n",
            "  (1, 8948)\t1\n",
            "  (1, 38951)\t1\n",
            "  (1, 21223)\t1\n",
            "  (1, 7677)\t1\n",
            "  (1, 40697)\t1\n",
            "  (1, 8949)\t1\n",
            "  (1, 21224)\t1\n",
            "  (1, 7678)\t1\n",
            "  :\t:\n",
            "  (3, 5299)\t1\n",
            "  (3, 46145)\t1\n",
            "  (3, 34207)\t1\n",
            "  (3, 5345)\t1\n",
            "  (3, 34208)\t1\n",
            "  (4, 8578)\t1\n",
            "  (4, 29425)\t1\n",
            "  (4, 8664)\t1\n",
            "  (4, 39531)\t1\n",
            "  (4, 42826)\t1\n",
            "  (4, 28391)\t1\n",
            "  (4, 47425)\t1\n",
            "  (4, 29956)\t1\n",
            "  (4, 40169)\t1\n",
            "  (4, 42988)\t1\n",
            "  (4, 28727)\t1\n",
            "  (4, 8905)\t1\n",
            "  (4, 29984)\t1\n",
            "  (4, 40218)\t1\n",
            "  (4, 42995)\t1\n",
            "  (4, 8924)\t1\n",
            "  (4, 29987)\t1\n",
            "  (4, 40219)\t1\n",
            "  (4, 8926)\t1\n",
            "  (4, 29988)\t1\n",
            "Proportion of data points kept: 78.20%\n",
            "\n",
            "third-iteration labeling has an accuracy of 85.20%\n",
            "\n"
          ]
        },
        {
          "output_type": "display_data",
          "data": {
            "text/plain": [
              "<Figure size 640x480 with 1 Axes>"
            ],
            "image/png": "[encoded data removed]"
          },
          "metadata": {}
        }
      ]
    },
    {
      "cell_type": "code",
      "source": [],
      "metadata": {
        "id": "7Ip6CAgPn5a_"
      },
      "execution_count": null,
      "outputs": []
    }
  ]
}